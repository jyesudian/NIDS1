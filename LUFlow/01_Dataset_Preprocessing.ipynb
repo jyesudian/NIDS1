{
  "cells": [
    {
      "cell_type": "markdown",
      "metadata": {
        "id": "W_H-MbFhJ7vf"
      },
      "source": [
        "# Dataset Preprocessing\n",
        "In this notebook, the goal is to process the dataset so that the dataset is ready to be used for training. To achieve this goal, here are the steps that will be performed in this notebook:\n",
        "1. Combine the CSV files of the dataset into one dataset\n",
        "2. Preliminary analysis of the dataset\n",
        "3. Dataset cleaning - clean missing values, duplicates, etc\n",
        "4. Further processing, includes addressing the high class imbalance problem and rename the columns name (if necessary)\n",
        "5. Save the processed dataset\n",
        "\n",
        "note: The notebook will be seperated into two subsections, where the training dataset and the testing dataset will be processed separately. However, same steps will be applied to both dataset."
      ]
    },
    {
      "cell_type": "code",
      "source": [
        "from google.colab import drive\n",
        "drive.mount('/content/drive')"
      ],
      "metadata": {
        "id": "9wOG0q7BLQFp",
        "outputId": "c17996df-94a1-4331-ffca-2b68d9de5035",
        "colab": {
          "base_uri": "https://localhost:8080/"
        }
      },
      "execution_count": 1,
      "outputs": [
        {
          "output_type": "stream",
          "name": "stdout",
          "text": [
            "Mounted at /content/drive\n"
          ]
        }
      ]
    },
    {
      "cell_type": "code",
      "execution_count": 2,
      "metadata": {
        "id": "WR7JCzbFJ7vi"
      },
      "outputs": [],
      "source": [
        "# import the packages to be used\n",
        "import os       # to create directories and remove files\n",
        "import numpy as np\n",
        "import pandas as pd\n",
        "import random\n",
        "\n",
        "# set the random seed to ensure the result is reproducible\n",
        "random.seed(10)\n",
        "np.random.seed(10)"
      ]
    },
    {
      "cell_type": "markdown",
      "metadata": {
        "id": "k4q0f8krJ7vj"
      },
      "source": [
        "# LUFlow Dataset (2022)\n",
        "\n",
        "For the implementation using the LUFlow dataset, the data collected in June 2022 is being used as training dataset."
      ]
    },
    {
      "cell_type": "markdown",
      "metadata": {
        "id": "0hUXTwVkJ7vk"
      },
      "source": [
        "## Step 1. Combine the files of the dataset"
      ]
    },
    {
      "cell_type": "code",
      "execution_count": 3,
      "metadata": {
        "id": "gqmnyftBJ7vk"
      },
      "outputs": [],
      "source": [
        "luflow_csv_files = ('2022.06.12',\n",
        "                    '2022.06.13',\n",
        "                    '2022.06.14',\n",
        "                    )"
      ]
    },
    {
      "cell_type": "code",
      "execution_count": 14,
      "metadata": {
        "id": "ikdk07frJ7vl"
      },
      "outputs": [],
      "source": [
        "# Define the function to combine seperate files of a dataset\n",
        "# Besides combining the files, it has two additional functionality:\n",
        "# 1. Replace the replacement character (\\uFFFD) with '-', which is needed for the CIC-IDS2017 dataset\n",
        "# 2. Down sample the dataset. If the reduce_sample_size parameter is set to true,\n",
        "#    only 10% of the dataset will be randomly selected and saved.\n",
        "def combine_csv_files(dataset: str, file_names: tuple, reduce_sample_size: bool = False):\n",
        "\n",
        "    # create a new directory to place the combined dataset\n",
        "    os.makedirs('./Dataset/dataset_combined', exist_ok=True)\n",
        "\n",
        "    # remove the dataset if it already exist\n",
        "    merged_dataset_directory = f'/content/drive/MyDrive/VIT/Dataset/LuFlow/dataset_combined/{dataset}.csv'\n",
        "    if os.path.isfile(merged_dataset_directory):\n",
        "        os.remove(merged_dataset_directory)\n",
        "        print(f'original file({merged_dataset_directory}) has been removed')\n",
        "\n",
        "    for (file_index, file_name) in enumerate(file_names):\n",
        "        with open(f\"/content/drive/MyDrive/VIT/Dataset/{dataset}/{file_name}.csv\", 'r') as file, open(merged_dataset_directory, 'a') as out_file:\n",
        "            for (line_index, line) in enumerate(file):\n",
        "\n",
        "                # only the header of the first file will be taken\n",
        "                if 'Label' in line or 'label' in line:\n",
        "                    if file_index != 0 or line_index != 0:\n",
        "                        continue\n",
        "                elif reduce_sample_size:\n",
        "                    if random.randint(1, 10) > 1:\n",
        "                        continue\n",
        "                # replace the replacement character (\\uFFFD) with '-' if exist\n",
        "                out_file.write(line.replace(' ï¿½ ', '-'))\n",
        ""
      ]
    },
    {
      "cell_type": "code",
      "execution_count": 15,
      "metadata": {
        "id": "hdphrv69J7vl"
      },
      "outputs": [],
      "source": [
        "combine_csv_files(dataset='LuFlow',\n",
        "                    file_names=luflow_csv_files,\n",
        "                    reduce_sample_size=True)"
      ]
    },
    {
      "cell_type": "markdown",
      "metadata": {
        "id": "oraled3BJ7vl"
      },
      "source": [
        "## Step 2. Preliminary analysis"
      ]
    },
    {
      "cell_type": "code",
      "execution_count": 17,
      "metadata": {
        "id": "yROS4uJOJ7vl",
        "outputId": "d031e24a-6aac-409e-9123-bd6d3c2bbfac",
        "colab": {
          "base_uri": "https://localhost:8080/",
          "height": 226
        }
      },
      "outputs": [
        {
          "output_type": "execute_result",
          "data": {
            "text/plain": [
              "        avg_ipt  bytes_in  bytes_out  dest_ip  dest_port   entropy  \\\n",
              "0  0.000000e+00         0          0      786    31306.0   0.00000   \n",
              "1  0.000000e+00         0          0      786    15402.0   0.00000   \n",
              "2  0.000000e+00         0          0      786    26469.0   0.00000   \n",
              "3  0.000000e+00         8          8      786        NaN   3.00000   \n",
              "4  5.052937e+07     38636       8014      786     9200.0  32.04859   \n",
              "\n",
              "   num_pkts_out  num_pkts_in  proto  src_ip  src_port          time_end  \\\n",
              "0             1            0      6     786   47613.0  1655074782132491   \n",
              "1             1            0      6     786   47613.0  1655074853394147   \n",
              "2             1            0      6     786   47613.0  1655074763683012   \n",
              "3             1            1      1     786       NaN   165507476660575   \n",
              "4           225          159      6     786   50422.0  1655075048115423   \n",
              "\n",
              "         time_start  total_entropy      label   duration  \n",
              "0  1655074782132491   0.000000e+00    outlier   0.000000  \n",
              "1  1655074853394147   0.000000e+00    outlier   0.000000  \n",
              "2  1655074763683012   0.000000e+00    outlier   0.000000  \n",
              "3   165507476660562   4.800000e+01  malicious   0.000130  \n",
              "4  1655075018601277   1.495067e+06     benign  29.514147  "
            ],
            "text/html": [
              "\n",
              "  <div id=\"df-d532241e-8e91-410d-b8a5-dde46cd71622\" class=\"colab-df-container\">\n",
              "    <div>\n",
              "<style scoped>\n",
              "    .dataframe tbody tr th:only-of-type {\n",
              "        vertical-align: middle;\n",
              "    }\n",
              "\n",
              "    .dataframe tbody tr th {\n",
              "        vertical-align: top;\n",
              "    }\n",
              "\n",
              "    .dataframe thead th {\n",
              "        text-align: right;\n",
              "    }\n",
              "</style>\n",
              "<table border=\"1\" class=\"dataframe\">\n",
              "  <thead>\n",
              "    <tr style=\"text-align: right;\">\n",
              "      <th></th>\n",
              "      <th>avg_ipt</th>\n",
              "      <th>bytes_in</th>\n",
              "      <th>bytes_out</th>\n",
              "      <th>dest_ip</th>\n",
              "      <th>dest_port</th>\n",
              "      <th>entropy</th>\n",
              "      <th>num_pkts_out</th>\n",
              "      <th>num_pkts_in</th>\n",
              "      <th>proto</th>\n",
              "      <th>src_ip</th>\n",
              "      <th>src_port</th>\n",
              "      <th>time_end</th>\n",
              "      <th>time_start</th>\n",
              "      <th>total_entropy</th>\n",
              "      <th>label</th>\n",
              "      <th>duration</th>\n",
              "    </tr>\n",
              "  </thead>\n",
              "  <tbody>\n",
              "    <tr>\n",
              "      <th>0</th>\n",
              "      <td>0.000000e+00</td>\n",
              "      <td>0</td>\n",
              "      <td>0</td>\n",
              "      <td>786</td>\n",
              "      <td>31306.0</td>\n",
              "      <td>0.00000</td>\n",
              "      <td>1</td>\n",
              "      <td>0</td>\n",
              "      <td>6</td>\n",
              "      <td>786</td>\n",
              "      <td>47613.0</td>\n",
              "      <td>1655074782132491</td>\n",
              "      <td>1655074782132491</td>\n",
              "      <td>0.000000e+00</td>\n",
              "      <td>outlier</td>\n",
              "      <td>0.000000</td>\n",
              "    </tr>\n",
              "    <tr>\n",
              "      <th>1</th>\n",
              "      <td>0.000000e+00</td>\n",
              "      <td>0</td>\n",
              "      <td>0</td>\n",
              "      <td>786</td>\n",
              "      <td>15402.0</td>\n",
              "      <td>0.00000</td>\n",
              "      <td>1</td>\n",
              "      <td>0</td>\n",
              "      <td>6</td>\n",
              "      <td>786</td>\n",
              "      <td>47613.0</td>\n",
              "      <td>1655074853394147</td>\n",
              "      <td>1655074853394147</td>\n",
              "      <td>0.000000e+00</td>\n",
              "      <td>outlier</td>\n",
              "      <td>0.000000</td>\n",
              "    </tr>\n",
              "    <tr>\n",
              "      <th>2</th>\n",
              "      <td>0.000000e+00</td>\n",
              "      <td>0</td>\n",
              "      <td>0</td>\n",
              "      <td>786</td>\n",
              "      <td>26469.0</td>\n",
              "      <td>0.00000</td>\n",
              "      <td>1</td>\n",
              "      <td>0</td>\n",
              "      <td>6</td>\n",
              "      <td>786</td>\n",
              "      <td>47613.0</td>\n",
              "      <td>1655074763683012</td>\n",
              "      <td>1655074763683012</td>\n",
              "      <td>0.000000e+00</td>\n",
              "      <td>outlier</td>\n",
              "      <td>0.000000</td>\n",
              "    </tr>\n",
              "    <tr>\n",
              "      <th>3</th>\n",
              "      <td>0.000000e+00</td>\n",
              "      <td>8</td>\n",
              "      <td>8</td>\n",
              "      <td>786</td>\n",
              "      <td>NaN</td>\n",
              "      <td>3.00000</td>\n",
              "      <td>1</td>\n",
              "      <td>1</td>\n",
              "      <td>1</td>\n",
              "      <td>786</td>\n",
              "      <td>NaN</td>\n",
              "      <td>165507476660575</td>\n",
              "      <td>165507476660562</td>\n",
              "      <td>4.800000e+01</td>\n",
              "      <td>malicious</td>\n",
              "      <td>0.000130</td>\n",
              "    </tr>\n",
              "    <tr>\n",
              "      <th>4</th>\n",
              "      <td>5.052937e+07</td>\n",
              "      <td>38636</td>\n",
              "      <td>8014</td>\n",
              "      <td>786</td>\n",
              "      <td>9200.0</td>\n",
              "      <td>32.04859</td>\n",
              "      <td>225</td>\n",
              "      <td>159</td>\n",
              "      <td>6</td>\n",
              "      <td>786</td>\n",
              "      <td>50422.0</td>\n",
              "      <td>1655075048115423</td>\n",
              "      <td>1655075018601277</td>\n",
              "      <td>1.495067e+06</td>\n",
              "      <td>benign</td>\n",
              "      <td>29.514147</td>\n",
              "    </tr>\n",
              "  </tbody>\n",
              "</table>\n",
              "</div>\n",
              "    <div class=\"colab-df-buttons\">\n",
              "\n",
              "  <div class=\"colab-df-container\">\n",
              "    <button class=\"colab-df-convert\" onclick=\"convertToInteractive('df-d532241e-8e91-410d-b8a5-dde46cd71622')\"\n",
              "            title=\"Convert this dataframe to an interactive table.\"\n",
              "            style=\"display:none;\">\n",
              "\n",
              "  <svg xmlns=\"http://www.w3.org/2000/svg\" height=\"24px\" viewBox=\"0 -960 960 960\">\n",
              "    <path d=\"M120-120v-720h720v720H120Zm60-500h600v-160H180v160Zm220 220h160v-160H400v160Zm0 220h160v-160H400v160ZM180-400h160v-160H180v160Zm440 0h160v-160H620v160ZM180-180h160v-160H180v160Zm440 0h160v-160H620v160Z\"/>\n",
              "  </svg>\n",
              "    </button>\n",
              "\n",
              "  <style>\n",
              "    .colab-df-container {\n",
              "      display:flex;\n",
              "      gap: 12px;\n",
              "    }\n",
              "\n",
              "    .colab-df-convert {\n",
              "      background-color: #E8F0FE;\n",
              "      border: none;\n",
              "      border-radius: 50%;\n",
              "      cursor: pointer;\n",
              "      display: none;\n",
              "      fill: #1967D2;\n",
              "      height: 32px;\n",
              "      padding: 0 0 0 0;\n",
              "      width: 32px;\n",
              "    }\n",
              "\n",
              "    .colab-df-convert:hover {\n",
              "      background-color: #E2EBFA;\n",
              "      box-shadow: 0px 1px 2px rgba(60, 64, 67, 0.3), 0px 1px 3px 1px rgba(60, 64, 67, 0.15);\n",
              "      fill: #174EA6;\n",
              "    }\n",
              "\n",
              "    .colab-df-buttons div {\n",
              "      margin-bottom: 4px;\n",
              "    }\n",
              "\n",
              "    [theme=dark] .colab-df-convert {\n",
              "      background-color: #3B4455;\n",
              "      fill: #D2E3FC;\n",
              "    }\n",
              "\n",
              "    [theme=dark] .colab-df-convert:hover {\n",
              "      background-color: #434B5C;\n",
              "      box-shadow: 0px 1px 3px 1px rgba(0, 0, 0, 0.15);\n",
              "      filter: drop-shadow(0px 1px 2px rgba(0, 0, 0, 0.3));\n",
              "      fill: #FFFFFF;\n",
              "    }\n",
              "  </style>\n",
              "\n",
              "    <script>\n",
              "      const buttonEl =\n",
              "        document.querySelector('#df-d532241e-8e91-410d-b8a5-dde46cd71622 button.colab-df-convert');\n",
              "      buttonEl.style.display =\n",
              "        google.colab.kernel.accessAllowed ? 'block' : 'none';\n",
              "\n",
              "      async function convertToInteractive(key) {\n",
              "        const element = document.querySelector('#df-d532241e-8e91-410d-b8a5-dde46cd71622');\n",
              "        const dataTable =\n",
              "          await google.colab.kernel.invokeFunction('convertToInteractive',\n",
              "                                                    [key], {});\n",
              "        if (!dataTable) return;\n",
              "\n",
              "        const docLinkHtml = 'Like what you see? Visit the ' +\n",
              "          '<a target=\"_blank\" href=https://colab.research.google.com/notebooks/data_table.ipynb>data table notebook</a>'\n",
              "          + ' to learn more about interactive tables.';\n",
              "        element.innerHTML = '';\n",
              "        dataTable['output_type'] = 'display_data';\n",
              "        await google.colab.output.renderOutput(dataTable, element);\n",
              "        const docLink = document.createElement('div');\n",
              "        docLink.innerHTML = docLinkHtml;\n",
              "        element.appendChild(docLink);\n",
              "      }\n",
              "    </script>\n",
              "  </div>\n",
              "\n",
              "\n",
              "<div id=\"df-d0790969-c378-4a18-a286-f10ae2cb4415\">\n",
              "  <button class=\"colab-df-quickchart\" onclick=\"quickchart('df-d0790969-c378-4a18-a286-f10ae2cb4415')\"\n",
              "            title=\"Suggest charts\"\n",
              "            style=\"display:none;\">\n",
              "\n",
              "<svg xmlns=\"http://www.w3.org/2000/svg\" height=\"24px\"viewBox=\"0 0 24 24\"\n",
              "     width=\"24px\">\n",
              "    <g>\n",
              "        <path d=\"M19 3H5c-1.1 0-2 .9-2 2v14c0 1.1.9 2 2 2h14c1.1 0 2-.9 2-2V5c0-1.1-.9-2-2-2zM9 17H7v-7h2v7zm4 0h-2V7h2v10zm4 0h-2v-4h2v4z\"/>\n",
              "    </g>\n",
              "</svg>\n",
              "  </button>\n",
              "\n",
              "<style>\n",
              "  .colab-df-quickchart {\n",
              "      --bg-color: #E8F0FE;\n",
              "      --fill-color: #1967D2;\n",
              "      --hover-bg-color: #E2EBFA;\n",
              "      --hover-fill-color: #174EA6;\n",
              "      --disabled-fill-color: #AAA;\n",
              "      --disabled-bg-color: #DDD;\n",
              "  }\n",
              "\n",
              "  [theme=dark] .colab-df-quickchart {\n",
              "      --bg-color: #3B4455;\n",
              "      --fill-color: #D2E3FC;\n",
              "      --hover-bg-color: #434B5C;\n",
              "      --hover-fill-color: #FFFFFF;\n",
              "      --disabled-bg-color: #3B4455;\n",
              "      --disabled-fill-color: #666;\n",
              "  }\n",
              "\n",
              "  .colab-df-quickchart {\n",
              "    background-color: var(--bg-color);\n",
              "    border: none;\n",
              "    border-radius: 50%;\n",
              "    cursor: pointer;\n",
              "    display: none;\n",
              "    fill: var(--fill-color);\n",
              "    height: 32px;\n",
              "    padding: 0;\n",
              "    width: 32px;\n",
              "  }\n",
              "\n",
              "  .colab-df-quickchart:hover {\n",
              "    background-color: var(--hover-bg-color);\n",
              "    box-shadow: 0 1px 2px rgba(60, 64, 67, 0.3), 0 1px 3px 1px rgba(60, 64, 67, 0.15);\n",
              "    fill: var(--button-hover-fill-color);\n",
              "  }\n",
              "\n",
              "  .colab-df-quickchart-complete:disabled,\n",
              "  .colab-df-quickchart-complete:disabled:hover {\n",
              "    background-color: var(--disabled-bg-color);\n",
              "    fill: var(--disabled-fill-color);\n",
              "    box-shadow: none;\n",
              "  }\n",
              "\n",
              "  .colab-df-spinner {\n",
              "    border: 2px solid var(--fill-color);\n",
              "    border-color: transparent;\n",
              "    border-bottom-color: var(--fill-color);\n",
              "    animation:\n",
              "      spin 1s steps(1) infinite;\n",
              "  }\n",
              "\n",
              "  @keyframes spin {\n",
              "    0% {\n",
              "      border-color: transparent;\n",
              "      border-bottom-color: var(--fill-color);\n",
              "      border-left-color: var(--fill-color);\n",
              "    }\n",
              "    20% {\n",
              "      border-color: transparent;\n",
              "      border-left-color: var(--fill-color);\n",
              "      border-top-color: var(--fill-color);\n",
              "    }\n",
              "    30% {\n",
              "      border-color: transparent;\n",
              "      border-left-color: var(--fill-color);\n",
              "      border-top-color: var(--fill-color);\n",
              "      border-right-color: var(--fill-color);\n",
              "    }\n",
              "    40% {\n",
              "      border-color: transparent;\n",
              "      border-right-color: var(--fill-color);\n",
              "      border-top-color: var(--fill-color);\n",
              "    }\n",
              "    60% {\n",
              "      border-color: transparent;\n",
              "      border-right-color: var(--fill-color);\n",
              "    }\n",
              "    80% {\n",
              "      border-color: transparent;\n",
              "      border-right-color: var(--fill-color);\n",
              "      border-bottom-color: var(--fill-color);\n",
              "    }\n",
              "    90% {\n",
              "      border-color: transparent;\n",
              "      border-bottom-color: var(--fill-color);\n",
              "    }\n",
              "  }\n",
              "</style>\n",
              "\n",
              "  <script>\n",
              "    async function quickchart(key) {\n",
              "      const quickchartButtonEl =\n",
              "        document.querySelector('#' + key + ' button');\n",
              "      quickchartButtonEl.disabled = true;  // To prevent multiple clicks.\n",
              "      quickchartButtonEl.classList.add('colab-df-spinner');\n",
              "      try {\n",
              "        const charts = await google.colab.kernel.invokeFunction(\n",
              "            'suggestCharts', [key], {});\n",
              "      } catch (error) {\n",
              "        console.error('Error during call to suggestCharts:', error);\n",
              "      }\n",
              "      quickchartButtonEl.classList.remove('colab-df-spinner');\n",
              "      quickchartButtonEl.classList.add('colab-df-quickchart-complete');\n",
              "    }\n",
              "    (() => {\n",
              "      let quickchartButtonEl =\n",
              "        document.querySelector('#df-d0790969-c378-4a18-a286-f10ae2cb4415 button');\n",
              "      quickchartButtonEl.style.display =\n",
              "        google.colab.kernel.accessAllowed ? 'block' : 'none';\n",
              "    })();\n",
              "  </script>\n",
              "</div>\n",
              "\n",
              "    </div>\n",
              "  </div>\n"
            ],
            "application/vnd.google.colaboratory.intrinsic+json": {
              "type": "dataframe",
              "variable_name": "luflow2022"
            }
          },
          "metadata": {},
          "execution_count": 17
        }
      ],
      "source": [
        "# read the dataset\n",
        "luflow2022 = pd.read_csv('/content/drive/MyDrive/VIT/Dataset/LuFlow/dataset_combined/LuFlow.csv')\n",
        "luflow2022.head()"
      ]
    },
    {
      "cell_type": "code",
      "execution_count": 18,
      "metadata": {
        "id": "JIFaMKwUJ7vl",
        "outputId": "52997962-e7c9-4b0d-843e-7c1779c310bd",
        "colab": {
          "base_uri": "https://localhost:8080/"
        }
      },
      "outputs": [
        {
          "output_type": "stream",
          "name": "stdout",
          "text": [
            "Number of rows: 106967\n",
            "Number of columns: 16\n"
          ]
        }
      ],
      "source": [
        "print(f\"Number of rows: {luflow2022.shape[0]}\")\n",
        "print(f\"Number of columns: {luflow2022.shape[1]}\")"
      ]
    },
    {
      "cell_type": "code",
      "execution_count": 19,
      "metadata": {
        "id": "EPBJ_WLBJ7vm",
        "outputId": "c2a5187e-4e77-4139-c1cf-3929ed25d774",
        "colab": {
          "base_uri": "https://localhost:8080/"
        }
      },
      "outputs": [
        {
          "output_type": "stream",
          "name": "stdout",
          "text": [
            "Columns in the dataset:\n"
          ]
        },
        {
          "output_type": "execute_result",
          "data": {
            "text/plain": [
              "Index(['avg_ipt', 'bytes_in', 'bytes_out', 'dest_ip', 'dest_port', 'entropy',\n",
              "       'num_pkts_out', 'num_pkts_in', 'proto', 'src_ip', 'src_port',\n",
              "       'time_end', 'time_start', 'total_entropy', 'label', 'duration'],\n",
              "      dtype='object')"
            ]
          },
          "metadata": {},
          "execution_count": 19
        }
      ],
      "source": [
        "print(\"Columns in the dataset:\")\n",
        "luflow2022.columns"
      ]
    },
    {
      "cell_type": "code",
      "execution_count": 20,
      "metadata": {
        "id": "aSjahi7qJ7vm",
        "outputId": "2b5101b2-00ee-4dbc-c7c7-9ce73df1e3ba",
        "colab": {
          "base_uri": "https://localhost:8080/"
        }
      },
      "outputs": [
        {
          "output_type": "stream",
          "name": "stdout",
          "text": [
            "Class distribution:\n"
          ]
        },
        {
          "output_type": "execute_result",
          "data": {
            "text/plain": [
              "benign       51773\n",
              "outlier      44239\n",
              "malicious    10955\n",
              "Name: label, dtype: int64"
            ]
          },
          "metadata": {},
          "execution_count": 20
        }
      ],
      "source": [
        "print('Class distribution:')\n",
        "luflow2022['label'].value_counts()"
      ]
    },
    {
      "cell_type": "markdown",
      "metadata": {
        "id": "SmBly6KxJ7vm"
      },
      "source": [
        "From the class distribution, we can see that the LUFlow 2022 dataset is imbalance. The benign samples account for 48% of total samples while malicious only account for 11%."
      ]
    },
    {
      "cell_type": "code",
      "execution_count": 21,
      "metadata": {
        "id": "NCiwRmZvJ7vm",
        "outputId": "f618eed5-4ab1-4854-b5e2-b9245584ba9e",
        "colab": {
          "base_uri": "https://localhost:8080/"
        }
      },
      "outputs": [
        {
          "output_type": "stream",
          "name": "stdout",
          "text": [
            "Class distribution (normalized):\n"
          ]
        },
        {
          "output_type": "execute_result",
          "data": {
            "text/plain": [
              "benign       48.400909\n",
              "outlier      41.357615\n",
              "malicious    10.241476\n",
              "Name: label, dtype: float64"
            ]
          },
          "metadata": {},
          "execution_count": 21
        }
      ],
      "source": [
        "print('Class distribution (normalized):')\n",
        "luflow2022['label'].value_counts()/luflow2022.shape[0]*100"
      ]
    },
    {
      "cell_type": "markdown",
      "metadata": {
        "id": "QQGnIPTVJ7vm"
      },
      "source": [
        "### Check for null value\n",
        "\n",
        "Count the number of rows include null values in each column."
      ]
    },
    {
      "cell_type": "code",
      "execution_count": null,
      "metadata": {
        "id": "kw2zAea7J7vn",
        "outputId": "064b2e34-aee8-4f4a-815b-b21910c8bf61"
      },
      "outputs": [
        {
          "name": "stdout",
          "output_type": "stream",
          "text": [
            "Rows contain null value: \n",
            "dest_port    29268\n",
            "src_port     29268\n",
            "dtype: int64\n",
            "\n",
            "Rows contain null value (percentage): \n",
            "dest_port    1.167754\n",
            "src_port     1.167754\n",
            "dtype: float64\n",
            "\n"
          ]
        }
      ],
      "source": [
        "luflow2022_null_count = luflow2022.isnull().sum()\n",
        "luflow2022_null_count = luflow2022_null_count[luflow2022_null_count > 0]\n",
        "print(f\"Rows contain null value: \\n{luflow2022_null_count}\\n\")\n",
        "\n",
        "luflow2020_null_count = luflow2022_null_count / luflow2022.shape[0] * 100\n",
        "print(f\"Rows contain null value (percentage): \\n{luflow2022_null_count}\\n\")"
      ]
    },
    {
      "cell_type": "markdown",
      "metadata": {
        "id": "VmOfnDeIJ7vn"
      },
      "source": [
        "### Check for infinity value\n",
        "\n",
        "Check for number of rows that include null value"
      ]
    },
    {
      "cell_type": "code",
      "execution_count": 22,
      "metadata": {
        "id": "hv6JUZ-9J7vn",
        "outputId": "8f663f6e-df48-423b-9fe0-c909dbf1fa52",
        "colab": {
          "base_uri": "https://localhost:8080/"
        }
      },
      "outputs": [
        {
          "output_type": "stream",
          "name": "stdout",
          "text": [
            "Number of samples contains infinity value:\n"
          ]
        },
        {
          "output_type": "execute_result",
          "data": {
            "text/plain": [
              "0"
            ]
          },
          "metadata": {},
          "execution_count": 22
        }
      ],
      "source": [
        "print('Number of samples contains infinity value:')\n",
        "np.isinf(luflow2022.iloc[:, :-2]).any(axis=1).sum()"
      ]
    },
    {
      "cell_type": "markdown",
      "metadata": {
        "id": "JDyHR61TJ7vn"
      },
      "source": [
        "### Check for columns that contain string values\n",
        "\n",
        "Check for columns that is type `object`, which indicate the columns contain string value. The aim is to find if any column contain numeric and alphabetic value. Such column often include string value like '?' to indicate missing value, thus needed to be cleaned."
      ]
    },
    {
      "cell_type": "code",
      "execution_count": 23,
      "metadata": {
        "id": "xgtb3uO_J7vn",
        "outputId": "087cf2dc-2222-40ac-d234-ba36fc915b1e",
        "colab": {
          "base_uri": "https://localhost:8080/"
        }
      },
      "outputs": [
        {
          "output_type": "stream",
          "name": "stdout",
          "text": [
            "<class 'pandas.core.frame.DataFrame'>\n",
            "RangeIndex: 106967 entries, 0 to 106966\n",
            "Data columns (total 16 columns):\n",
            " #   Column         Non-Null Count   Dtype  \n",
            "---  ------         --------------   -----  \n",
            " 0   avg_ipt        106967 non-null  float64\n",
            " 1   bytes_in       106967 non-null  int64  \n",
            " 2   bytes_out      106967 non-null  int64  \n",
            " 3   dest_ip        106967 non-null  int64  \n",
            " 4   dest_port      96533 non-null   float64\n",
            " 5   entropy        106967 non-null  float64\n",
            " 6   num_pkts_out   106967 non-null  int64  \n",
            " 7   num_pkts_in    106967 non-null  int64  \n",
            " 8   proto          106967 non-null  int64  \n",
            " 9   src_ip         106967 non-null  int64  \n",
            " 10  src_port       96533 non-null   float64\n",
            " 11  time_end       106967 non-null  int64  \n",
            " 12  time_start     106967 non-null  int64  \n",
            " 13  total_entropy  106967 non-null  float64\n",
            " 14  label          106967 non-null  object \n",
            " 15  duration       106967 non-null  float64\n",
            "dtypes: float64(6), int64(9), object(1)\n",
            "memory usage: 13.1+ MB\n"
          ]
        }
      ],
      "source": [
        "luflow2022.info()"
      ]
    },
    {
      "cell_type": "markdown",
      "metadata": {
        "id": "SpapH-H_J7vn"
      },
      "source": [
        "From here, we can see that only the 'label' column is of type `object`. As the 'label' column store the label of each sample using `string`, it has no problem with the column."
      ]
    },
    {
      "cell_type": "markdown",
      "metadata": {
        "id": "wFSyJuEJJ7vn"
      },
      "source": [
        "### Check for duplicates"
      ]
    },
    {
      "cell_type": "code",
      "execution_count": 24,
      "metadata": {
        "id": "5XQRYBORJ7vn",
        "outputId": "af18da48-2fbb-4c7a-dd66-8807103f3a2b",
        "colab": {
          "base_uri": "https://localhost:8080/"
        }
      },
      "outputs": [
        {
          "output_type": "execute_result",
          "data": {
            "text/plain": [
              "Index([], dtype='object')"
            ]
          },
          "metadata": {},
          "execution_count": 24
        }
      ],
      "source": [
        "# check for duplicated column\n",
        "luflow2022.columns[luflow2022.columns.value_counts() > 1]"
      ]
    },
    {
      "cell_type": "code",
      "execution_count": 26,
      "metadata": {
        "id": "v9-EOBBxJ7vn",
        "outputId": "25abd554-a336-4a08-982b-0941ef547f6b",
        "colab": {
          "base_uri": "https://localhost:8080/"
        }
      },
      "outputs": [
        {
          "output_type": "stream",
          "name": "stdout",
          "text": [
            "298 rows are duplicates\n",
            "0.28% of rows are duplicates\n"
          ]
        }
      ],
      "source": [
        "luflow_duplicates = luflow2022[luflow2022.duplicated()]\n",
        "print(f\"{luflow_duplicates.shape[0]} rows are duplicates\")\n",
        "print(f\"{luflow_duplicates.shape[0]/luflow2022.shape[0]*100:.2f}% of rows are duplicates\")"
      ]
    },
    {
      "cell_type": "markdown",
      "metadata": {
        "id": "HREJteJ0J7vo"
      },
      "source": [
        "## Step 3. Dataset cleaning\n",
        "\n",
        "From the analysis in Step 2, it has been discovered that the dataset contains a small amount of missing value and duplicates. Since those problematic rows only account for a small portion of the entire dataset, those rows are simply removed."
      ]
    },
    {
      "cell_type": "code",
      "execution_count": 27,
      "metadata": {
        "id": "B7ERHANyJ7vo",
        "outputId": "ae5b6532-b39d-4fb9-9712-96dc6fd3f2b5",
        "colab": {
          "base_uri": "https://localhost:8080/"
        }
      },
      "outputs": [
        {
          "output_type": "execute_result",
          "data": {
            "text/plain": [
              "(96533, 16)"
            ]
          },
          "metadata": {},
          "execution_count": 27
        }
      ],
      "source": [
        "# remove rows contain missing value\n",
        "luflow2022 = luflow2022.dropna(how='any')\n",
        "luflow2022.shape"
      ]
    },
    {
      "cell_type": "code",
      "execution_count": 28,
      "metadata": {
        "id": "6JsEjnGgJ7vo",
        "outputId": "7255280d-9344-48a2-cb4d-d9999020c1c2",
        "colab": {
          "base_uri": "https://localhost:8080/"
        }
      },
      "outputs": [
        {
          "output_type": "execute_result",
          "data": {
            "text/plain": [
              "(96325, 16)"
            ]
          },
          "metadata": {},
          "execution_count": 28
        }
      ],
      "source": [
        "luflow2022 = luflow2022.drop_duplicates()\n",
        "luflow2022.shape"
      ]
    },
    {
      "cell_type": "markdown",
      "metadata": {
        "id": "WAa5pymSJ7vo"
      },
      "source": [
        "## Step 4. Dataset preparation\n",
        "\n",
        "In this step, the main goal is to prepare the dataset to be ready for training. For the LUFlow dataset, there are two tasks to be completed:\n",
        "* Remove outlier - The LUFlow dataset contains an \"outlier\" class. In the outlier class, it contains samples that are malicious, but could also be benign. Hence, the outliers are not meaningful as they sits in the grey area between malicious and benign class.\n",
        "* Balance the class distribution - The benign samples are slightly more than the malicious samples, which could result in the models bias towards the benign samples. Since we have a large number of samples, we will downsampling the benign samples, so that the ratio between benign and malicious samples is 1:1."
      ]
    },
    {
      "cell_type": "code",
      "execution_count": 29,
      "metadata": {
        "id": "zFBeW2X4J7vo",
        "outputId": "11f067ea-a6e5-47a6-d420-d59597a32f83",
        "colab": {
          "base_uri": "https://localhost:8080/"
        }
      },
      "outputs": [
        {
          "output_type": "execute_result",
          "data": {
            "text/plain": [
              "malicious    7607\n",
              "benign       7607\n",
              "Name: label, dtype: int64"
            ]
          },
          "metadata": {},
          "execution_count": 29
        }
      ],
      "source": [
        "attack = luflow2022[luflow2022['label']=='malicious']\n",
        "benign = luflow2022[luflow2022['label']=='benign'].sample(n=len(attack)).reset_index(drop=True)\n",
        "\n",
        "luflow2022_exclude_outlier = pd.concat([attack, benign])\n",
        "del attack\n",
        "del benign\n",
        "\n",
        "luflow2022_exclude_outlier['label'].value_counts()"
      ]
    },
    {
      "cell_type": "markdown",
      "metadata": {
        "id": "-6StD-cwJ7vo"
      },
      "source": [
        "## Step 5. Save the dataset"
      ]
    },
    {
      "cell_type": "code",
      "execution_count": 30,
      "metadata": {
        "id": "qPzB3JSlJ7vo"
      },
      "outputs": [],
      "source": [
        "# function to save the cleaned dataset\n",
        "def save_cleaned_dataset(dataframe: pd.DataFrame,dataset: str, tag: str = \"\"):\n",
        "    # create a new directory to save the cleaned dataset\n",
        "    os.makedirs('/content/drive/MyDrive/VIT/Dataset/LuFlow/dataset_cleaned', exist_ok=True)\n",
        "\n",
        "    if not(tag == \"\"):\n",
        "        tag = \"_\" + tag\n",
        "\n",
        "    dataframe.to_csv(f'/content/drive/MyDrive/VIT/Dataset/LuFlow/dataset_cleaned/{dataset}{tag}.csv', index=False)"
      ]
    },
    {
      "cell_type": "code",
      "execution_count": 31,
      "metadata": {
        "id": "z3R6wy-RJ7vo"
      },
      "outputs": [],
      "source": [
        "save_cleaned_dataset(dataframe=luflow2022_exclude_outlier, dataset='LUFlow')"
      ]
    },
    {
      "cell_type": "markdown",
      "metadata": {
        "id": "j6_J6myeJ7vp"
      },
      "source": [
        "# LUFlow Dataset (2021)\n",
        "\n",
        "For the implementation using the LUFlow dataset, the data collected in January 2021 is being used as testing dataset."
      ]
    },
    {
      "cell_type": "code",
      "execution_count": null,
      "metadata": {
        "id": "v7R7DybmJ7vp"
      },
      "outputs": [],
      "source": [
        "luflow2021_csv_files = ('2021.01.01',\n",
        "                        '2021.01.02',\n",
        "                        '2021.01.03',\n",
        "                        '2021.01.04',\n",
        "                        '2021.01.05',\n",
        "                        '2021.01.06',\n",
        "                        '2021.01.07',\n",
        "                        '2021.01.08',\n",
        "                        '2021.01.09',\n",
        "                        '2021.01.10',\n",
        "                        '2021.01.11',\n",
        "                        '2021.01.12',\n",
        "                        '2021.01.13',\n",
        "                        '2021.01.14',\n",
        "                        '2021.01.15',\n",
        "                        '2021.01.17',\n",
        "                        '2021.01.18',\n",
        "                        '2021.01.19',\n",
        "                        '2021.01.20',\n",
        "                        '2021.01.22',\n",
        "                        '2021.01.23',\n",
        "                        '2021.01.24',\n",
        "                        '2021.01.25',\n",
        "                        '2021.01.26',\n",
        "                        '2021.01.27',\n",
        "                        '2021.01.28',\n",
        "                        '2021.01.29',\n",
        "                        '2021.01.30',\n",
        "                        '2021.01.31',\n",
        "                        )"
      ]
    },
    {
      "cell_type": "code",
      "execution_count": null,
      "metadata": {
        "id": "5eS2SPJzJ7vp",
        "outputId": "86693778-890c-4e23-9187-e4618277b3d8"
      },
      "outputs": [
        {
          "name": "stdout",
          "output_type": "stream",
          "text": [
            "original file(Dataset/dataset_combined/LUFlow_2021.csv) has been removed\n"
          ]
        }
      ],
      "source": [
        "combine_csv_files(dataset='LUFlow_2021',\n",
        "                    file_names=luflow2021_csv_files,\n",
        "                    reduce_sample_size=True)"
      ]
    },
    {
      "cell_type": "code",
      "execution_count": null,
      "metadata": {
        "id": "ns2bdFTzJ7vp",
        "outputId": "b32a0e3f-d98f-41a3-b948-7ab70b9297f7"
      },
      "outputs": [
        {
          "data": {
            "text/html": [
              "<div>\n",
              "<style scoped>\n",
              "    .dataframe tbody tr th:only-of-type {\n",
              "        vertical-align: middle;\n",
              "    }\n",
              "\n",
              "    .dataframe tbody tr th {\n",
              "        vertical-align: top;\n",
              "    }\n",
              "\n",
              "    .dataframe thead th {\n",
              "        text-align: right;\n",
              "    }\n",
              "</style>\n",
              "<table border=\"1\" class=\"dataframe\">\n",
              "  <thead>\n",
              "    <tr style=\"text-align: right;\">\n",
              "      <th></th>\n",
              "      <th>avg_ipt</th>\n",
              "      <th>bytes_in</th>\n",
              "      <th>bytes_out</th>\n",
              "      <th>dest_ip</th>\n",
              "      <th>dest_port</th>\n",
              "      <th>entropy</th>\n",
              "      <th>num_pkts_out</th>\n",
              "      <th>num_pkts_in</th>\n",
              "      <th>proto</th>\n",
              "      <th>src_ip</th>\n",
              "      <th>src_port</th>\n",
              "      <th>time_end</th>\n",
              "      <th>time_start</th>\n",
              "      <th>total_entropy</th>\n",
              "      <th>label</th>\n",
              "      <th>duration</th>\n",
              "    </tr>\n",
              "  </thead>\n",
              "  <tbody>\n",
              "    <tr>\n",
              "      <th>0</th>\n",
              "      <td>907.312500</td>\n",
              "      <td>754</td>\n",
              "      <td>32742</td>\n",
              "      <td>786</td>\n",
              "      <td>9092.0</td>\n",
              "      <td>1.111004</td>\n",
              "      <td>32</td>\n",
              "      <td>20</td>\n",
              "      <td>6</td>\n",
              "      <td>786</td>\n",
              "      <td>57148.0</td>\n",
              "      <td>1609467701725488</td>\n",
              "      <td>1609467672683006</td>\n",
              "      <td>37214.200</td>\n",
              "      <td>benign</td>\n",
              "      <td>29.042482</td>\n",
              "    </tr>\n",
              "    <tr>\n",
              "      <th>1</th>\n",
              "      <td>0.000000</td>\n",
              "      <td>0</td>\n",
              "      <td>0</td>\n",
              "      <td>786</td>\n",
              "      <td>40010.0</td>\n",
              "      <td>0.000000</td>\n",
              "      <td>1</td>\n",
              "      <td>1</td>\n",
              "      <td>6</td>\n",
              "      <td>786</td>\n",
              "      <td>9300.0</td>\n",
              "      <td>1609467690746479</td>\n",
              "      <td>1609467690746443</td>\n",
              "      <td>0.000</td>\n",
              "      <td>benign</td>\n",
              "      <td>0.000036</td>\n",
              "    </tr>\n",
              "    <tr>\n",
              "      <th>2</th>\n",
              "      <td>0.000000</td>\n",
              "      <td>174</td>\n",
              "      <td>29008</td>\n",
              "      <td>786</td>\n",
              "      <td>9092.0</td>\n",
              "      <td>1.127009</td>\n",
              "      <td>7</td>\n",
              "      <td>5</td>\n",
              "      <td>6</td>\n",
              "      <td>786</td>\n",
              "      <td>57148.0</td>\n",
              "      <td>1609467711729621</td>\n",
              "      <td>160946771172828</td>\n",
              "      <td>32888.370</td>\n",
              "      <td>benign</td>\n",
              "      <td>0.001341</td>\n",
              "    </tr>\n",
              "    <tr>\n",
              "      <th>3</th>\n",
              "      <td>0.000000</td>\n",
              "      <td>0</td>\n",
              "      <td>0</td>\n",
              "      <td>786</td>\n",
              "      <td>40012.0</td>\n",
              "      <td>0.000000</td>\n",
              "      <td>1</td>\n",
              "      <td>1</td>\n",
              "      <td>6</td>\n",
              "      <td>786</td>\n",
              "      <td>9300.0</td>\n",
              "      <td>1609467690746484</td>\n",
              "      <td>1609467690746469</td>\n",
              "      <td>0.000</td>\n",
              "      <td>benign</td>\n",
              "      <td>0.000015</td>\n",
              "    </tr>\n",
              "    <tr>\n",
              "      <th>4</th>\n",
              "      <td>1502.333333</td>\n",
              "      <td>664</td>\n",
              "      <td>13772</td>\n",
              "      <td>786</td>\n",
              "      <td>9200.0</td>\n",
              "      <td>2.341442</td>\n",
              "      <td>6</td>\n",
              "      <td>5</td>\n",
              "      <td>6</td>\n",
              "      <td>786</td>\n",
              "      <td>56330.0</td>\n",
              "      <td>1609467732753774</td>\n",
              "      <td>160946772373801</td>\n",
              "      <td>33801.062</td>\n",
              "      <td>benign</td>\n",
              "      <td>9.015764</td>\n",
              "    </tr>\n",
              "  </tbody>\n",
              "</table>\n",
              "</div>"
            ],
            "text/plain": [
              "       avg_ipt  bytes_in  bytes_out  dest_ip  dest_port   entropy  \\\n",
              "0   907.312500       754      32742      786     9092.0  1.111004   \n",
              "1     0.000000         0          0      786    40010.0  0.000000   \n",
              "2     0.000000       174      29008      786     9092.0  1.127009   \n",
              "3     0.000000         0          0      786    40012.0  0.000000   \n",
              "4  1502.333333       664      13772      786     9200.0  2.341442   \n",
              "\n",
              "   num_pkts_out  num_pkts_in  proto  src_ip  src_port          time_end  \\\n",
              "0            32           20      6     786   57148.0  1609467701725488   \n",
              "1             1            1      6     786    9300.0  1609467690746479   \n",
              "2             7            5      6     786   57148.0  1609467711729621   \n",
              "3             1            1      6     786    9300.0  1609467690746484   \n",
              "4             6            5      6     786   56330.0  1609467732753774   \n",
              "\n",
              "         time_start  total_entropy   label   duration  \n",
              "0  1609467672683006      37214.200  benign  29.042482  \n",
              "1  1609467690746443          0.000  benign   0.000036  \n",
              "2   160946771172828      32888.370  benign   0.001341  \n",
              "3  1609467690746469          0.000  benign   0.000015  \n",
              "4   160946772373801      33801.062  benign   9.015764  "
            ]
          },
          "execution_count": 22,
          "metadata": {},
          "output_type": "execute_result"
        }
      ],
      "source": [
        "luflow2021 = pd.read_csv('Dataset/dataset_combined/LUFlow_2021.csv')\n",
        "luflow2021.head()"
      ]
    },
    {
      "cell_type": "code",
      "execution_count": null,
      "metadata": {
        "id": "q4ndkgveJ7vp",
        "outputId": "35e8901d-e4d5-484c-a27e-e925b79f82a0"
      },
      "outputs": [
        {
          "name": "stdout",
          "output_type": "stream",
          "text": [
            "Number of rows: 2699669\n",
            "Number of columns: 16\n"
          ]
        }
      ],
      "source": [
        "print(f\"Number of rows: {luflow2021.shape[0]}\")\n",
        "print(f\"Number of columns: {luflow2021.shape[1]}\")"
      ]
    },
    {
      "cell_type": "code",
      "execution_count": null,
      "metadata": {
        "id": "K7Z4fuwwJ7vp",
        "outputId": "a1ea213e-a299-4a57-f214-14eef3c7e108"
      },
      "outputs": [
        {
          "name": "stdout",
          "output_type": "stream",
          "text": [
            "Columns in the dataset:\n"
          ]
        },
        {
          "data": {
            "text/plain": [
              "Index(['avg_ipt', 'bytes_in', 'bytes_out', 'dest_ip', 'dest_port', 'entropy',\n",
              "       'num_pkts_out', 'num_pkts_in', 'proto', 'src_ip', 'src_port',\n",
              "       'time_end', 'time_start', 'total_entropy', 'label', 'duration'],\n",
              "      dtype='object')"
            ]
          },
          "execution_count": 24,
          "metadata": {},
          "output_type": "execute_result"
        }
      ],
      "source": [
        "print(\"Columns in the dataset:\")\n",
        "luflow2021.columns"
      ]
    },
    {
      "cell_type": "code",
      "execution_count": null,
      "metadata": {
        "id": "d7Epr9V4J7vq",
        "outputId": "31dbcda7-2240-4a6a-a9c0-5227c65ee644"
      },
      "outputs": [
        {
          "name": "stdout",
          "output_type": "stream",
          "text": [
            "Class distribution\n"
          ]
        },
        {
          "data": {
            "text/plain": [
              "benign       1638952\n",
              "malicious     591372\n",
              "outlier       469345\n",
              "Name: label, dtype: int64"
            ]
          },
          "execution_count": 25,
          "metadata": {},
          "output_type": "execute_result"
        }
      ],
      "source": [
        "print('Class distribution')\n",
        "luflow2021['label'].value_counts()"
      ]
    },
    {
      "cell_type": "markdown",
      "metadata": {
        "id": "2oa_IXRZJ7vq"
      },
      "source": [
        "From the class distribution, we can see that the LUFlow 2021 dataset is also imbalance. The benign samples account for 56% of total samples while malicious only account for 36%."
      ]
    },
    {
      "cell_type": "code",
      "execution_count": null,
      "metadata": {
        "id": "uUTz0QIaJ7vq",
        "outputId": "f93473f0-06f6-45cc-bd0b-0fbe502e1111"
      },
      "outputs": [
        {
          "name": "stdout",
          "output_type": "stream",
          "text": [
            "Class distribution (normalized):\n"
          ]
        },
        {
          "data": {
            "text/plain": [
              "benign       56.359422\n",
              "malicious    35.522302\n",
              "outlier       8.118276\n",
              "Name: label, dtype: float64"
            ]
          },
          "execution_count": 26,
          "metadata": {},
          "output_type": "execute_result"
        }
      ],
      "source": [
        "print('Class distribution (normalized):')\n",
        "luflow2020['label'].value_counts()/luflow2020.shape[0]*100"
      ]
    },
    {
      "cell_type": "markdown",
      "metadata": {
        "id": "LQz5tO1LJ7vq"
      },
      "source": [
        "### Check for null value"
      ]
    },
    {
      "cell_type": "code",
      "execution_count": null,
      "metadata": {
        "id": "_PxjZRqeJ7vq",
        "outputId": "6eb7d750-573d-4c15-ca22-af16291ad7bf"
      },
      "outputs": [
        {
          "name": "stdout",
          "output_type": "stream",
          "text": [
            "Rows contain null value: \n",
            "dest_port    33810\n",
            "src_port     33810\n",
            "dtype: int64\n",
            "\n",
            "Rows contain null value (percentage): \n",
            "dest_port    1.252376\n",
            "src_port     1.252376\n",
            "dtype: float64\n",
            "\n"
          ]
        }
      ],
      "source": [
        "luflow2021_null_count = luflow2021.isnull().sum()\n",
        "luflow2021_null_count = luflow2021_null_count[luflow2021_null_count > 0]\n",
        "print(f\"Rows contain null value: \\n{luflow2021_null_count}\\n\")\n",
        "\n",
        "luflow2021_null_count = luflow2021_null_count / luflow2021.shape[0] * 100\n",
        "print(f\"Rows contain null value (percentage): \\n{luflow2021_null_count}\\n\")"
      ]
    },
    {
      "cell_type": "markdown",
      "metadata": {
        "id": "ZgNedst1J7vq"
      },
      "source": [
        "### Check for infinity value"
      ]
    },
    {
      "cell_type": "code",
      "execution_count": null,
      "metadata": {
        "id": "zHIk3qsNJ7vq",
        "outputId": "eb0188eb-0d43-4a55-885d-c9ea19b837ac"
      },
      "outputs": [
        {
          "name": "stdout",
          "output_type": "stream",
          "text": [
            "Number of samples contains infinity value:\n"
          ]
        },
        {
          "data": {
            "text/plain": [
              "0"
            ]
          },
          "execution_count": 28,
          "metadata": {},
          "output_type": "execute_result"
        }
      ],
      "source": [
        "print('Number of samples contains infinity value:')\n",
        "np.isinf(luflow2021.iloc[:, :-2]).any(axis=1).sum()"
      ]
    },
    {
      "cell_type": "markdown",
      "metadata": {
        "id": "-mv3DTKlJ7vr"
      },
      "source": [
        "### Check for columns that contain string values"
      ]
    },
    {
      "cell_type": "code",
      "execution_count": null,
      "metadata": {
        "id": "JCFbZDW6J7vr",
        "outputId": "6114e1de-3d2f-4571-e959-88ac5483a99e"
      },
      "outputs": [
        {
          "name": "stdout",
          "output_type": "stream",
          "text": [
            "<class 'pandas.core.frame.DataFrame'>\n",
            "RangeIndex: 2699669 entries, 0 to 2699668\n",
            "Data columns (total 16 columns):\n",
            " #   Column         Dtype  \n",
            "---  ------         -----  \n",
            " 0   avg_ipt        float64\n",
            " 1   bytes_in       int64  \n",
            " 2   bytes_out      int64  \n",
            " 3   dest_ip        int64  \n",
            " 4   dest_port      float64\n",
            " 5   entropy        float64\n",
            " 6   num_pkts_out   int64  \n",
            " 7   num_pkts_in    int64  \n",
            " 8   proto          int64  \n",
            " 9   src_ip         int64  \n",
            " 10  src_port       float64\n",
            " 11  time_end       int64  \n",
            " 12  time_start     int64  \n",
            " 13  total_entropy  float64\n",
            " 14  label          object \n",
            " 15  duration       float64\n",
            "dtypes: float64(6), int64(9), object(1)\n",
            "memory usage: 329.5+ MB\n"
          ]
        }
      ],
      "source": [
        "luflow2021.info()"
      ]
    },
    {
      "cell_type": "markdown",
      "metadata": {
        "id": "vvknVsoKJ7vr"
      },
      "source": [
        "Just like the LUFlow 2020 dataset, only the 'label' column is of type `object`, so there will be no cleaning needed"
      ]
    },
    {
      "cell_type": "markdown",
      "metadata": {
        "id": "gN28AnHSJ7vr"
      },
      "source": [
        "## Check for duplicates"
      ]
    },
    {
      "cell_type": "code",
      "execution_count": null,
      "metadata": {
        "id": "e0E3Lg2cJ7vr",
        "outputId": "f94dc69a-c54d-4385-87da-7db993893be1"
      },
      "outputs": [
        {
          "data": {
            "text/plain": [
              "Index([], dtype='object')"
            ]
          },
          "execution_count": 30,
          "metadata": {},
          "output_type": "execute_result"
        }
      ],
      "source": [
        "# check for duplicated column\n",
        "luflow2021.columns[luflow2021.columns.value_counts() > 1]"
      ]
    },
    {
      "cell_type": "code",
      "execution_count": null,
      "metadata": {
        "id": "j-ganJeyJ7vr",
        "outputId": "426561e0-baba-4aac-fa31-856de9e4b9f3"
      },
      "outputs": [
        {
          "name": "stdout",
          "output_type": "stream",
          "text": [
            "290 rows are duplicates\n",
            "0.01% of rows are duplicates\n"
          ]
        }
      ],
      "source": [
        "luflow2021_duplicates = luflow2021[luflow2021.duplicated()]\n",
        "print(f\"{luflow2021_duplicates.shape[0]} rows are duplicates\")\n",
        "print(f\"{luflow2021_duplicates.shape[0]/luflow2021.shape[0]*100:.2f}% of rows are duplicates\")\n"
      ]
    },
    {
      "cell_type": "markdown",
      "metadata": {
        "id": "X6PA3mxgJ7vr"
      },
      "source": [
        "## Step 3. Dataset cleaning\n",
        "\n",
        "Just like the LUFlow 2020 dataset, the LUFlow 2021 dataset contains a small amount of missing value and duplicated rows. Those problematic rows in this dataset are also removed."
      ]
    },
    {
      "cell_type": "code",
      "execution_count": null,
      "metadata": {
        "id": "V1gPlLcmJ7vr",
        "outputId": "981c62c0-6c11-41ac-c1d7-4c275df60ba6"
      },
      "outputs": [
        {
          "data": {
            "text/plain": [
              "(2665859, 16)"
            ]
          },
          "execution_count": 32,
          "metadata": {},
          "output_type": "execute_result"
        }
      ],
      "source": [
        "luflow2021 = luflow2021.dropna(how='any')\n",
        "luflow2021.shape"
      ]
    },
    {
      "cell_type": "code",
      "execution_count": null,
      "metadata": {
        "id": "RBUumV10J7vs",
        "outputId": "3a8b2be9-b3ea-49db-e2cb-6d98466de745"
      },
      "outputs": [
        {
          "data": {
            "text/plain": [
              "(2665569, 16)"
            ]
          },
          "execution_count": 33,
          "metadata": {},
          "output_type": "execute_result"
        }
      ],
      "source": [
        "luflow2021 = luflow2021.drop_duplicates()\n",
        "luflow2021.shape"
      ]
    },
    {
      "cell_type": "markdown",
      "metadata": {
        "id": "LMPSUyHEJ7vs"
      },
      "source": [
        "## Step 4. Dataset preparation\n",
        "\n",
        "Same as before, the outliers are removed and the class distribution are balanced in this step."
      ]
    },
    {
      "cell_type": "code",
      "execution_count": null,
      "metadata": {
        "id": "5Kqv30B0J7vs",
        "outputId": "f9d5f6c1-2017-413a-c915-05af6868c196"
      },
      "outputs": [
        {
          "data": {
            "text/plain": [
              "benign       569003\n",
              "malicious    569003\n",
              "Name: label, dtype: int64"
            ]
          },
          "execution_count": 34,
          "metadata": {},
          "output_type": "execute_result"
        }
      ],
      "source": [
        "attack = luflow2021[luflow2021['label'] == 'malicious']\n",
        "benign = luflow2021[luflow2021['label'] == 'benign'].sample(n=len(attack)).reset_index(drop=True)\n",
        "\n",
        "luflow2021_exclude_outlier = pd.concat([attack, benign])\n",
        "del attack\n",
        "del benign\n",
        "\n",
        "luflow2021_exclude_outlier['label'].value_counts()"
      ]
    },
    {
      "cell_type": "markdown",
      "metadata": {
        "id": "cEL_s-_hJ7vs"
      },
      "source": [
        "## Step 5. Save the dataset"
      ]
    },
    {
      "cell_type": "code",
      "execution_count": null,
      "metadata": {
        "id": "em-rHsHaJ7vs"
      },
      "outputs": [],
      "source": [
        "save_cleaned_dataset(dataframe=luflow2021_exclude_outlier, dataset='LUFlow2021')"
      ]
    }
  ],
  "metadata": {
    "interpreter": {
      "hash": "44c13dc6c3f21bbb987c14254e5f1628aa054b85b2e38852b8ccc1d4b03a22cf"
    },
    "kernelspec": {
      "display_name": "Python 3.8.8 64-bit ('base': conda)",
      "name": "python3"
    },
    "language_info": {
      "codemirror_mode": {
        "name": "ipython",
        "version": 3
      },
      "file_extension": ".py",
      "mimetype": "text/x-python",
      "name": "python",
      "nbconvert_exporter": "python",
      "pygments_lexer": "ipython3",
      "version": "3.8.8"
    },
    "orig_nbformat": 4,
    "colab": {
      "provenance": []
    }
  },
  "nbformat": 4,
  "nbformat_minor": 0
}