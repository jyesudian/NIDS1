{
  "cells": [
    {
      "cell_type": "markdown",
      "metadata": {
        "id": "w33Mj6_WXuJ4"
      },
      "source": [
        "# Optimize the models' hyperparameter\n",
        "\n",
        "In this notebook, there is only one goal: optimize the hyperparameters of the models."
      ]
    },
    {
      "cell_type": "code",
      "execution_count": 1,
      "metadata": {
        "id": "h2YTkYnuXuKK"
      },
      "outputs": [],
      "source": [
        "# import all of the packages that will be used\n",
        "\n",
        "# basic packages for data processing\n",
        "import pandas as pd\n",
        "import numpy as np\n",
        "\n",
        "# packages for machine learning\n",
        "from sklearn.model_selection import train_test_split\n",
        "from sklearn.model_selection import cross_val_score\n",
        "from sklearn.model_selection import GridSearchCV\n",
        "from sklearn.preprocessing import StandardScaler\n",
        "\n",
        "from sklearn import tree\n",
        "from sklearn.ensemble import RandomForestClassifier\n",
        "from sklearn.svm import SVC\n",
        "from sklearn.naive_bayes import GaussianNB\n",
        "from sklearn.neural_network import MLPClassifier\n",
        "\n",
        "# packages to interpret the training result\n",
        "from sklearn import metrics\n",
        "from sklearn.metrics import accuracy_score\n",
        "import matplotlib.pyplot as plt\n",
        "%matplotlib inline\n",
        "\n",
        "# set the random seed to ensure the result is reproducible\n",
        "import random\n",
        "random.seed(10)\n",
        "np.random.seed(10)"
      ]
    },
    {
      "cell_type": "code",
      "source": [
        "from google.colab import drive\n",
        "drive.mount('/content/drive')"
      ],
      "metadata": {
        "id": "LixJVt09Y9sE",
        "outputId": "5cc1ea39-3c7a-4e19-b6e5-d0af2072d603",
        "colab": {
          "base_uri": "https://localhost:8080/"
        }
      },
      "execution_count": 2,
      "outputs": [
        {
          "output_type": "stream",
          "name": "stdout",
          "text": [
            "Mounted at /content/drive\n"
          ]
        }
      ]
    },
    {
      "cell_type": "markdown",
      "metadata": {
        "id": "_CqQMTz2XuKL"
      },
      "source": [
        "## Load the dataset"
      ]
    },
    {
      "cell_type": "code",
      "execution_count": 3,
      "metadata": {
        "id": "n1uDpg_jXuKM"
      },
      "outputs": [],
      "source": [
        "features = pd.read_csv('/content/drive/MyDrive/VIT/Dataset/LuFlow/LUFlow_RandomForestClassifier_11.csv').squeeze()\n",
        "features = features[:11]"
      ]
    },
    {
      "cell_type": "code",
      "execution_count": 5,
      "metadata": {
        "id": "6JGv-7-9XuKM",
        "outputId": "8eab3e3b-44e9-4010-95f9-b33c33e27ee1",
        "colab": {
          "base_uri": "https://localhost:8080/"
        }
      },
      "outputs": [
        {
          "output_type": "execute_result",
          "data": {
            "text/plain": [
              "(15214, 12)"
            ]
          },
          "metadata": {},
          "execution_count": 5
        }
      ],
      "source": [
        "columns = features.tolist() +  ['label']\n",
        "\n",
        "luflow2022 = pd.read_csv('/content/drive/MyDrive/VIT/Dataset/LuFlow/dataset_cleaned/LUFlow.csv', usecols=columns)\n",
        "luflow2022.shape"
      ]
    },
    {
      "cell_type": "markdown",
      "metadata": {
        "id": "nVxRYfuCXuKN"
      },
      "source": [
        "## Processing before training"
      ]
    },
    {
      "cell_type": "markdown",
      "metadata": {
        "id": "6fIP8hdcXuKN"
      },
      "source": [
        "### Down sampling the dataset\n",
        "\n",
        "As grid search is basically brute force all combinations of hyperparameters that are defined in the hyperparameter space, it is an expensive process. To speed up the process, only 10% of the training dataset will be used.\n",
        "\n",
        "<<RAJ>> As the dataset size taken in my case is small, I commented taking the subset."
      ]
    },
    {
      "cell_type": "code",
      "execution_count": 6,
      "metadata": {
        "id": "b0qNOKrvXuKO",
        "outputId": "cf50d1b3-f18d-47cd-a580-35cde1ab63b9",
        "colab": {
          "base_uri": "https://localhost:8080/"
        }
      },
      "outputs": [
        {
          "output_type": "stream",
          "name": "stdout",
          "text": [
            "Class distribution: \n"
          ]
        },
        {
          "output_type": "execute_result",
          "data": {
            "text/plain": [
              "malicious    7607\n",
              "benign       7607\n",
              "Name: label, dtype: int64"
            ]
          },
          "metadata": {},
          "execution_count": 6
        }
      ],
      "source": [
        "#cic_ids2017 = cic_ids2017.sample(frac=0.1).reset_index(drop=True)\n",
        "\n",
        "print('Class distribution: ')\n",
        "luflow2022['label'].value_counts()"
      ]
    },
    {
      "cell_type": "markdown",
      "metadata": {
        "id": "oz25CFtZXuKO"
      },
      "source": [
        "### Split the dataset\n",
        "\n",
        "Split the features and the output variable into two dataframe, and further split them into testing and training dataset. The ratio between the training and testing dataset is 7.5:2.5 (i.e. 75% for training and 25% for testing). The training dataset will be used to optimize the models' hyperparameter while the testing dataset will give us a first glance on the accuracy of the optimized models."
      ]
    },
    {
      "cell_type": "code",
      "execution_count": 7,
      "metadata": {
        "id": "xn94MhNvXuKO"
      },
      "outputs": [],
      "source": [
        "luflow2022_X = luflow2022.drop('label', axis=1).copy()\n",
        "luflow2022_y = luflow2022['label'].copy()\n",
        "\n",
        "luflow2022_train_X, luflow2022_test_X, luflow2022_train_y, luflow2022_test_y = train_test_split(luflow2022_X, luflow2022_y, test_size=0.25)"
      ]
    },
    {
      "cell_type": "markdown",
      "metadata": {
        "id": "oxVNehzyXuKP"
      },
      "source": [
        "### Data scaling"
      ]
    },
    {
      "cell_type": "code",
      "execution_count": 8,
      "metadata": {
        "id": "KqVREDslXuKP"
      },
      "outputs": [],
      "source": [
        "scalar = StandardScaler()\n",
        "\n",
        "luflow2022_train_X_scaled = scalar.fit_transform(luflow2022_train_X)\n",
        "luflow2022_test_X_scaled = scalar.transform(luflow2022_test_X)"
      ]
    },
    {
      "cell_type": "markdown",
      "metadata": {
        "id": "vl8M4zjQXuKQ"
      },
      "source": [
        "## Optimize Hyperparameter of each models"
      ]
    },
    {
      "cell_type": "markdown",
      "metadata": {
        "id": "1hINkAJMXuKQ"
      },
      "source": [
        "### Decision Tree\n",
        "\n",
        "The decision tree will be optimized by tuning the `ccp_alpha` value. A for loop is being used to loop through multiple `ccp_alpha` values and the alpha value that gives the highest accuracy score will be selected."
      ]
    },
    {
      "cell_type": "code",
      "execution_count": 9,
      "metadata": {
        "id": "Vs17zu2oXuKQ",
        "outputId": "7abbfd7b-1a52-43d1-b1c8-b0cef0a11fc1",
        "colab": {
          "base_uri": "https://localhost:8080/",
          "height": 501
        }
      },
      "outputs": [
        {
          "output_type": "stream",
          "name": "stdout",
          "text": [
            "CPU times: user 6.89 s, sys: 0 ns, total: 6.89 s\n",
            "Wall time: 7.06 s\n"
          ]
        },
        {
          "output_type": "execute_result",
          "data": {
            "text/plain": [
              "<Axes: xlabel='alpha'>"
            ]
          },
          "metadata": {},
          "execution_count": 9
        },
        {
          "output_type": "display_data",
          "data": {
            "text/plain": [
              "<Figure size 640x480 with 1 Axes>"
            ],
            "image/png": "[encoded data removed]"
          },
          "metadata": {}
        }
      ],
      "source": [
        "%%time\n",
        "\n",
        "decision_tree = tree.DecisionTreeClassifier(criterion='entropy')\n",
        "path = decision_tree.cost_complexity_pruning_path(luflow2022_train_X_scaled, luflow2022_train_y)\n",
        "ccp_alphas = path.ccp_alphas\n",
        "ccp_alphas = ccp_alphas[:-1] # exlude the maximum value\n",
        "\n",
        "alpha_loop_values = []\n",
        "\n",
        "for ccp_alpha in ccp_alphas:\n",
        "    decision_tree = tree.DecisionTreeClassifier(criterion='entropy', ccp_alpha=ccp_alpha)\n",
        "    scores = cross_val_score(decision_tree, luflow2022_train_X_scaled, luflow2022_train_y, cv=5)\n",
        "    alpha_loop_values.append([ccp_alpha, np.mean(scores), np.std(scores)])\n",
        "\n",
        "\n",
        "# Plot a graph of the means and standard deviations of the scores for each candidate\n",
        "alpha_results = pd.DataFrame(alpha_loop_values, columns=['alpha', 'mean_accuracy', 'std'])\n",
        "\n",
        "alpha_results.plot(x='alpha',\n",
        "                    y='mean_accuracy',\n",
        "                    yerr='std',\n",
        "                    marker='o',\n",
        "                    linestyle='--')"
      ]
    },
    {
      "cell_type": "markdown",
      "metadata": {
        "id": "CrAWqs_GXuKR"
      },
      "source": [
        "Build the optimal tree and evaluate its accuracy"
      ]
    },
    {
      "cell_type": "code",
      "execution_count": 10,
      "metadata": {
        "id": "BdGEZrVCXuKR",
        "outputId": "3e092134-7065-484e-97a9-fb749a30d94d",
        "colab": {
          "base_uri": "https://localhost:8080/"
        }
      },
      "outputs": [
        {
          "output_type": "stream",
          "name": "stdout",
          "text": [
            "Optimal alpha value: 0.0002704790821367506\n",
            "Accuracy: 0.99737\n"
          ]
        }
      ],
      "source": [
        "ideal_ccp_alpha = alpha_results.sort_values(by=['mean_accuracy'], ascending=False).iloc[0]\n",
        "ideal_ccp_alpha = float(ideal_ccp_alpha['alpha'])\n",
        "print(f\"Optimal alpha value: {ideal_ccp_alpha}\")\n",
        "\n",
        "# build the optimum tree\n",
        "decision_tree = tree.DecisionTreeClassifier(criterion='entropy', ccp_alpha=ideal_ccp_alpha)\n",
        "decision_tree.fit(luflow2022_train_X_scaled, luflow2022_train_y)\n",
        "\n",
        "prediction = decision_tree.predict(luflow2022_test_X_scaled)\n",
        "accuracy = metrics.accuracy_score(luflow2022_test_y, prediction)\n",
        "print(f\"Accuracy: {accuracy:.5f}\")"
      ]
    },
    {
      "cell_type": "markdown",
      "metadata": {
        "id": "dE4qGj-UXuKR"
      },
      "source": [
        "## Random Forest"
      ]
    },
    {
      "cell_type": "code",
      "execution_count": 11,
      "metadata": {
        "id": "l3l37t06XuKR",
        "outputId": "12847ad4-eb7f-4e23-e3bd-5f33887e870e",
        "colab": {
          "base_uri": "https://localhost:8080/"
        }
      },
      "outputs": [
        {
          "output_type": "stream",
          "name": "stdout",
          "text": [
            "Optimum hyperparameters: \n",
            "{'criterion': 'gini', 'max_depth': 10, 'min_samples_leaf': 1e-05, 'min_samples_split': 0.0001, 'n_estimators': 200}\n",
            "CPU times: user 25.7 s, sys: 5.03 s, total: 30.8 s\n",
            "Wall time: 34min 34s\n"
          ]
        }
      ],
      "source": [
        "%%time\n",
        "\n",
        "parameter_space = [\n",
        "    {'criterion': ['gini', 'entropy'],\n",
        "    'max_depth': [10, 20, 30],\n",
        "    'min_samples_leaf': [3, 0.0001, 0.0005, 0.00001],\n",
        "    'min_samples_split': [8, 0.0005, 0.0001, 0.00001],\n",
        "    'n_estimators': [100, 200, 350]\n",
        "    }\n",
        "]\n",
        "\n",
        "optimal_rf = GridSearchCV(\n",
        "                        RandomForestClassifier(),\n",
        "                        parameter_space,\n",
        "                        cv=5,\n",
        "                        scoring='accuracy',\n",
        "                        n_jobs=-1,\n",
        "                        verbose=0\n",
        ")\n",
        "\n",
        "optimal_rf.fit(luflow2022_train_X_scaled, luflow2022_train_y)\n",
        "rf_optimal_params = optimal_rf.best_params_\n",
        "print(f\"Optimum hyperparameters: \\n{rf_optimal_params}\")"
      ]
    },
    {
      "cell_type": "code",
      "execution_count": 12,
      "metadata": {
        "id": "3qZ5tyBIXuKS",
        "outputId": "20ebd8b4-7890-4a32-dfe6-e70d42280bc3",
        "colab": {
          "base_uri": "https://localhost:8080/"
        }
      },
      "outputs": [
        {
          "output_type": "stream",
          "name": "stdout",
          "text": [
            "Accuracy: 0.99816\n"
          ]
        }
      ],
      "source": [
        "prediction = optimal_rf.predict(luflow2022_test_X_scaled)\n",
        "accuracy = metrics.accuracy_score(luflow2022_test_y, prediction)\n",
        "print(f\"Accuracy: {accuracy:.5f}\")"
      ]
    },
    {
      "cell_type": "markdown",
      "metadata": {
        "id": "aXH9NFiBXuKS"
      },
      "source": [
        "## Support Vector Machine"
      ]
    },
    {
      "cell_type": "code",
      "execution_count": null,
      "metadata": {
        "id": "2-USf-INXuKS",
        "outputId": "10781214-7d26-45eb-9f5a-c3827bbb3a10"
      },
      "outputs": [
        {
          "name": "stdout",
          "output_type": "stream",
          "text": [
            "Optimum hyperparameters: \n",
            "{'C': 100, 'gamma': 1, 'kernel': 'rbf'}\n",
            "Wall time: 1h 6min 11s\n"
          ]
        }
      ],
      "source": [
        "%%time\n",
        "param_grid = [\n",
        "    {'C': [1, 10, 100],\n",
        "    'gamma': ['scale', 1, 0.1, 'auto'],\n",
        "    'kernel': ['rbf', 'linear', 'sigmoid']}\n",
        "]\n",
        "\n",
        "optimal_svm = GridSearchCV(\n",
        "                        SVC(),\n",
        "                        param_grid,\n",
        "                        cv=5,\n",
        "                        scoring='accuracy',\n",
        "                        n_jobs=-1,\n",
        "                        verbose=0\n",
        ")\n",
        "\n",
        "optimal_svm.fit(ids2017_train_X_scaled, ids2017_train_y)\n",
        "svm_optimal_params = optimal_svm.best_params_\n",
        "print(f\"Optimum hyperparameters: \\n{svm_optimal_params}\")"
      ]
    },
    {
      "cell_type": "markdown",
      "metadata": {
        "id": "0SgpFR91XuKT"
      },
      "source": [
        "Make prediction using the optimum model and evaluate its accuracy"
      ]
    },
    {
      "cell_type": "code",
      "execution_count": null,
      "metadata": {
        "id": "4OwfT9ToXuKT",
        "outputId": "53f62562-2778-435b-e596-53ed39c704ea"
      },
      "outputs": [
        {
          "name": "stdout",
          "output_type": "stream",
          "text": [
            "Accuracy: 0.95793\n"
          ]
        }
      ],
      "source": [
        "prediction = optimal_svm.predict(ids2017_test_X_scaled)\n",
        "accuracy = metrics.accuracy_score(ids2017_test_y, prediction)\n",
        "print(f\"Accuracy: {accuracy:.5f}\")"
      ]
    },
    {
      "cell_type": "markdown",
      "metadata": {
        "id": "vUscSXmSXuKT"
      },
      "source": [
        "## Naive Bayes"
      ]
    },
    {
      "cell_type": "code",
      "execution_count": null,
      "metadata": {
        "id": "DBsk4Rq-XuKU",
        "outputId": "e1dc502d-9ef0-4d29-e021-ac009c59d927"
      },
      "outputs": [
        {
          "name": "stdout",
          "output_type": "stream",
          "text": [
            "Optimum hyperparameters: \n",
            "{'var_smoothing': 1.0}\n",
            "Wall time: 21.3 s\n"
          ]
        }
      ],
      "source": [
        "%%time\n",
        "\n",
        "parameter_space = [\n",
        "    {'var_smoothing': np.logspace(0, -9, num=100)}\n",
        "]\n",
        "\n",
        "optimal_nb = GridSearchCV(\n",
        "                        GaussianNB(),\n",
        "                        parameter_space,\n",
        "                        cv=5,\n",
        "                        n_jobs=-1,\n",
        "                        verbose=0\n",
        ")\n",
        "\n",
        "optimal_nb.fit(ids2017_train_X_scaled, ids2017_train_y)\n",
        "nb_optimal_params = optimal_nb.best_params_\n",
        "print(f\"Optimum hyperparameters: \\n{nb_optimal_params}\")"
      ]
    },
    {
      "cell_type": "markdown",
      "metadata": {
        "id": "FfHPpu3OXuKU"
      },
      "source": [
        "Make prediction using the optimum model and evaluate its accuracy"
      ]
    },
    {
      "cell_type": "code",
      "execution_count": null,
      "metadata": {
        "id": "umEnpNMkXuKU",
        "outputId": "2aecc7e9-4e7c-49e9-e99e-05727d5e0fcd"
      },
      "outputs": [
        {
          "name": "stdout",
          "output_type": "stream",
          "text": [
            "Accuracy: 0.73570\n"
          ]
        }
      ],
      "source": [
        "prediction = optimal_nb.predict(ids2017_test_X_scaled)\n",
        "accuracy = metrics.accuracy_score(ids2017_test_y, prediction)\n",
        "print(f\"Accuracy: {accuracy:.5f}\")"
      ]
    },
    {
      "cell_type": "markdown",
      "metadata": {
        "id": "r8ZMwgIhXuKV"
      },
      "source": [
        "## Artificial Neural Network"
      ]
    },
    {
      "cell_type": "code",
      "execution_count": null,
      "metadata": {
        "id": "yUG25soEXuKV",
        "outputId": "a04249c4-0baf-4e5b-bdc7-f1d6ace9da8c"
      },
      "outputs": [
        {
          "name": "stdout",
          "output_type": "stream",
          "text": [
            "Optimum hyperparameters: \n",
            "{'activation': 'tanh', 'alpha': 0.0001, 'hidden_layer_sizes': (50,), 'solver': 'adam'}\n",
            "Wall time: 1h 43min 7s\n"
          ]
        },
        {
          "name": "stderr",
          "output_type": "stream",
          "text": [
            "C:\\Users\\user10\\anaconda3\\lib\\site-packages\\sklearn\\neural_network\\_multilayer_perceptron.py:614: ConvergenceWarning: Stochastic Optimizer: Maximum iterations (500) reached and the optimization hasn't converged yet.\n",
            "  warnings.warn(\n"
          ]
        }
      ],
      "source": [
        "%%time\n",
        "\n",
        "parameter_space = [\n",
        "    {'hidden_layer_sizes': [(10,), (20,), (30,), (40,), (50,)],\n",
        "    'activation': ['tanh', 'relu', 'logistic'],\n",
        "    'solver': ['adam', 'sgd'],\n",
        "    'alpha': [0.0001, 0.001, 0.00001]}\n",
        "]\n",
        "\n",
        "ann = MLPClassifier(max_iter=500)\n",
        "\n",
        "optimal_ann = GridSearchCV(\n",
        "                        ann,\n",
        "                        parameter_space,\n",
        "                        cv=5,\n",
        "                        n_jobs=-1,\n",
        "                        verbose=0\n",
        ")\n",
        "\n",
        "optimal_ann.fit(ids2017_train_X_scaled, ids2017_train_y)\n",
        "ann_optimal_params = optimal_ann.best_params_\n",
        "print(f\"Optimum hyperparameters: \\n{ann_optimal_params}\")"
      ]
    },
    {
      "cell_type": "code",
      "execution_count": null,
      "metadata": {
        "id": "UDC8olV-XuKV",
        "outputId": "a438b803-007b-492b-81c4-7e9a52f10634"
      },
      "outputs": [
        {
          "name": "stdout",
          "output_type": "stream",
          "text": [
            "Accuracy: 0.95250\n"
          ]
        }
      ],
      "source": [
        "prediction = optimal_ann.predict(ids2017_test_X_scaled)\n",
        "accuracy = metrics.accuracy_score(ids2017_test_y, prediction)\n",
        "print(f\"Accuracy: {accuracy:.5f}\")"
      ]
    },
    {
      "cell_type": "markdown",
      "metadata": {
        "id": "xqK7GGBBXuKW"
      },
      "source": [
        "## Deep Neural Network"
      ]
    },
    {
      "cell_type": "code",
      "execution_count": null,
      "metadata": {
        "id": "wVkbXPKvXuKW",
        "outputId": "144a5838-c7ea-4a67-cfa2-26d1ba30f242"
      },
      "outputs": [
        {
          "name": "stdout",
          "output_type": "stream",
          "text": [
            "Optimum hyperparameters: \n",
            "{'activation': 'tanh', 'alpha': 1e-05, 'hidden_layer_sizes': (15, 15, 15), 'solver': 'adam'}\n",
            "Wall time: 1h 41min 34s\n"
          ]
        }
      ],
      "source": [
        "%%time\n",
        "\n",
        "parameter_space = [\n",
        "    {'hidden_layer_sizes': [(10,10, 10), (12, 12, 12), (15, 15, 15), (8, 8, 8, 8), (10, 10, 10, 10)],\n",
        "    'activation': ['tanh', 'relu', 'logistic'],\n",
        "    'solver': ['adam', 'sgd'],\n",
        "    'alpha': [0.0001, 0.00001, 0.001]}\n",
        "]\n",
        "\n",
        "dnn = MLPClassifier(max_iter=500)\n",
        "\n",
        "optimal_dnn = GridSearchCV(\n",
        "                        dnn,\n",
        "                        parameter_space,\n",
        "                        cv=5,\n",
        "                        n_jobs=-1,\n",
        "                        verbose=0\n",
        ")\n",
        "\n",
        "optimal_dnn.fit(ids2017_train_X_scaled, ids2017_train_y)\n",
        "dnn_optimal_params = optimal_dnn.best_params_\n",
        "print(f\"Optimum hyperparameters: \\n{dnn_optimal_params}\")"
      ]
    },
    {
      "cell_type": "code",
      "execution_count": null,
      "metadata": {
        "id": "Edh9b1KBXuKW",
        "outputId": "e321ee97-5fa9-4e91-81e2-22bd0bb7c0d1"
      },
      "outputs": [
        {
          "name": "stdout",
          "output_type": "stream",
          "text": [
            "Accuracy: 0.97163\n"
          ]
        }
      ],
      "source": [
        "prediction = optimal_dnn.predict(ids2017_test_X_scaled)\n",
        "accuracy = metrics.accuracy_score(ids2017_test_y, prediction)\n",
        "print(f\"Accuracy: {accuracy:.5f}\")"
      ]
    }
  ],
  "metadata": {
    "interpreter": {
      "hash": "44c13dc6c3f21bbb987c14254e5f1628aa054b85b2e38852b8ccc1d4b03a22cf"
    },
    "kernelspec": {
      "display_name": "Python 3.8.8 64-bit ('base': conda)",
      "name": "python3"
    },
    "language_info": {
      "codemirror_mode": {
        "name": "ipython",
        "version": 3
      },
      "file_extension": ".py",
      "mimetype": "text/x-python",
      "name": "python",
      "nbconvert_exporter": "python",
      "pygments_lexer": "ipython3",
      "version": "3.8.8"
    },
    "orig_nbformat": 4,
    "colab": {
      "provenance": []
    }
  },
  "nbformat": 4,
  "nbformat_minor": 0
}